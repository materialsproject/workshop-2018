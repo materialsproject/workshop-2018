{
 "cells": [
  {
   "cell_type": "markdown",
   "metadata": {},
   "source": [
    "## Python Primer Exercises (with Solutions)"
   ]
  },
  {
   "cell_type": "markdown",
   "metadata": {},
   "source": [
    "## Lesson 1 - Variables, Expressions, and Functions\n",
    "\n",
    "----"
   ]
  },
  {
   "cell_type": "markdown",
   "metadata": {},
   "source": [
    "### Exercise: Types\n",
    "Consider the following code:\n",
    "\n",
    "```python\n",
    "var1 = 1\n",
    "var2 = 1.\n",
    "var3 = \"one\"\n",
    "var4 = \"3.14159\"\n",
    "```\n",
    "\n",
    "What is the type of `var1`?"
   ]
  },
  {
   "cell_type": "markdown",
   "metadata": {},
   "source": [
    "What is the type of `var2`?"
   ]
  },
  {
   "cell_type": "markdown",
   "metadata": {},
   "source": [
    "What is the type of `var3`?"
   ]
  },
  {
   "cell_type": "markdown",
   "metadata": {},
   "source": [
    "What is the type of `var4`?"
   ]
  },
  {
   "cell_type": "markdown",
   "metadata": {},
   "source": [
    "### Exercise: Find the type\n",
    "Determine the type of the variable `mystery` using a built-in function\n",
    "\n",
    "```python\n",
    "mystery = {\"a\": 1, \"b\": 2}\n",
    "```"
   ]
  },
  {
   "cell_type": "markdown",
   "metadata": {},
   "source": [
    "### Exercise: Converting types\n",
    "Given this:\n",
    "\n",
    "```python\n",
    "var2 = 1.\n",
    "var4 = \"1.0\"\n",
    "```\n",
    "\n",
    "1. Explain in simple terms what `float(var4)` does.\n",
    "1. Explain in simple terms what `str(var2)` does."
   ]
  },
  {
   "cell_type": "markdown",
   "metadata": {},
   "source": [
    "### Exercise: Imports\n",
    "Fill in the blanks so that the two programs below run without errors.\n",
    "\n",
    "```python\n",
    "import __\n",
    "print(\"The current directory is {}\".format(os.getcwd()))\n",
    "\n",
    "import ____\n",
    "print(\"The square root of 2 is {}\".format(math.sqrt(2)))\n",
    "\n",
    "```"
   ]
  },
  {
   "cell_type": "markdown",
   "metadata": {},
   "source": [
    "## Lesson 2: Lists and Strings\n",
    "----"
   ]
  },
  {
   "cell_type": "markdown",
   "metadata": {},
   "source": [
    "### Exercise: Slicing\n",
    "What does the following print:\n",
    "\n",
    "```python\n",
    "material = 'carbon'\n",
    "print('material[1:3] is:', material[1:3])\n",
    "```\n",
    "\n",
    "In words, explain what does `material[low:high]` do? (where low and high are arbitrary numbers)"
   ]
  },
  {
   "cell_type": "markdown",
   "metadata": {},
   "source": [
    "In words, explain what does `material[low:]` do? (where low is an arbitrary number)"
   ]
  },
  {
   "cell_type": "markdown",
   "metadata": {},
   "source": [
    "In words, explain what does `material[:high]` do?  (where low is an arbitrary number)"
   ]
  },
  {
   "cell_type": "markdown",
   "metadata": {},
   "source": [
    "What does `material[:]` do?"
   ]
  },
  {
   "cell_type": "markdown",
   "metadata": {},
   "source": [
    "What about `material[::2]`? `material[::-1]`?"
   ]
  },
  {
   "cell_type": "markdown",
   "metadata": {},
   "source": [
    "### Exercise: Fill in the blanks\n",
    "Fill in the blanks so that the program below produces the output shown.\n",
    "\n",
    "```python\n",
    "values = ____\n",
    "values.____(1)\n",
    "values.____(3)\n",
    "values.____(5)\n",
    "print('first time:', values)\n",
    "values = values[____]\n",
    "print('second time:', values)\n",
    "```\n",
    "---\n",
    "```\n",
    "first time: [1, 3, 5]\n",
    "second time: [3, 5]\n",
    "```"
   ]
  },
  {
   "cell_type": "markdown",
   "metadata": {},
   "source": [
    "### Exercise: From strings to lists and back\n",
    "Given this:\n",
    "\n",
    "```python\n",
    "print('string to list:', list('tin'))\n",
    "print('list to string:', '-'.join(['g', 'o', 'l', 'd']))\n",
    "```\n",
    "---\n",
    "```\n",
    "['t', 'i', 'n']\n",
    "'g-o-l-d'\n",
    "```\n",
    "\n",
    "1. Explain in simple terms what `list('some string')` does."
   ]
  },
  {
   "cell_type": "markdown",
   "metadata": {},
   "source": [
    "2. What does `' <=> '.join(['x', 'y'])` generate?"
   ]
  },
  {
   "cell_type": "markdown",
   "metadata": {},
   "source": [
    "### Exercise: Sort and Sorted\n",
    "What do these two programs print? In simple terms, explain the difference between `sorted(letters)` and `letters.sort()`.\n",
    "\n",
    "```python\n",
    "## Program A\n",
    "letters = list('gold')\n",
    "result = sorted(letters)\n",
    "print('letters is', letters, 'and result is', result)\n",
    "```\n",
    "---\n",
    "```python\n",
    "## Program B\n",
    "letters = list('gold')\n",
    "result = letters.sort()\n",
    "print('letters is', letters, 'and result is', result)\n",
    "```"
   ]
  },
  {
   "cell_type": "markdown",
   "metadata": {},
   "source": [
    "## Lesson 3: For loops"
   ]
  },
  {
   "cell_type": "markdown",
   "metadata": {},
   "source": [
    "### Exercise: write a for loop that computes the sum of all of the squares from 2 to 11."
   ]
  },
  {
   "cell_type": "markdown",
   "metadata": {},
   "source": [
    "### Exercise: write a for loop that prints each item in the list `friends`, but stops when it encounters the third value\n",
    "\n",
    "`friends = [\"Rachel\", \"Monica\", \"Chandler\", \"Ross\", \"Joey\"]`"
   ]
  },
  {
   "cell_type": "markdown",
   "metadata": {},
   "source": [
    "### Exercise: Explain in a few words what happens when you call `zip` on two iterables that have different lengths\n",
    "\n"
   ]
  },
  {
   "cell_type": "markdown",
   "metadata": {},
   "source": [
    "### Exercise (bonus): Write a Python program to construct the following pattern, using a nested for loop.\n",
    "\n",
    "<dd>* </dd>\n",
    "<dd>* * </dd>\n",
    "<dd>* * * </dd>\n",
    "<dd>* * * * </dd>\n",
    "<dd>* * * * * </dd>\n",
    "<dd>* * * * </dd>\n",
    "<dd>* * * </dd>\n",
    "<dd>* * </dd>\n",
    "<dd>* </dd>\n",
    "\n",
    "Hint: by default the `print` function inserts a newline character at the end of every line it prints. To suppress this, set the `end` argument to \"\", like `print(\"something\", end=\"\")`\n",
    "\n",
    "Hint: you can iterate through a range of numbers in reverse order by passing a negative number as a third argument to `range`, e.g. `range(0,10,-1)`"
   ]
  }
 ],
 "metadata": {
  "kernelspec": {
   "display_name": "Python 3",
   "language": "python",
   "name": "python3"
  },
  "language_info": {
   "codemirror_mode": {
    "name": "ipython",
    "version": 3
   },
   "file_extension": ".py",
   "mimetype": "text/x-python",
   "name": "python",
   "nbconvert_exporter": "python",
   "pygments_lexer": "ipython3",
   "version": "3.8.10"
  }
 },
 "nbformat": 4,
 "nbformat_minor": 4
}
