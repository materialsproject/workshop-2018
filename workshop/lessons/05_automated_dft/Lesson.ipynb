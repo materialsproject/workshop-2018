{
 "cells": [
  {
   "cell_type": "markdown",
   "metadata": {},
   "source": [
    "# Automated DFT\n",
    "\n",
    "This lesson focuses on key concepts necessary to run automated Density Functional Theory (DFT) workflows using our atomate code. We begin by focusing on using pymatgen to build inputs and parsing outputs of DFT calculations. Then we will go through a demonstration of using atomate to run DFT calculations.\n",
    "\n",
    "\n",
    "## Core Concepts\n",
    "- **Writing Input Files** - There is an enitre module in pymatgen devoted to reading and writing the input and output files of other codes to assist in calculation automation.\n",
    "- **Parsing Output Files** - Similar to handling input files, pymatgen also supports parsing output files. This machinery is also used by automate to parse entire output directories.\n",
    "- **Database Automation** - Atomate combines everything needed to automate running DFT calculations and storing them in a database."
   ]
  },
  {
   "cell_type": "markdown",
   "metadata": {},
   "source": [
    "## Lesson 1: Writing Input Files\n",
    "\n",
    "For the first lesson we'll focus on using pymatgen to simplfy interfacing with DFT codes. Pymatgen has a IO (input/output) module which has methods to parse and write files that are compatible with a number of external codes. These external codes are written in coding languages other than python (e.g. Fortran, C, C++, etc.) but pymatgen's IO module allows us to interface with them all through python. These external codes include:\n",
    "\n",
    "- AbInit\n",
    "- EXCITING\n",
    "- FEFF\n",
    "- LAMMPS\n",
    "- Lobster\n",
    "- QChem\n",
    "- VASP\n",
    "- ATAT\n",
    "- Gaussian\n",
    "- NWCHem\n",
    "- ShengBTE\n",
    "- Wannier90\n",
    "- Zeo++\n",
    "\n",
    "For today's lesson, we will focus on one of these codes, VASP (Vienna Ab initio Simulation Package), which is a DFT code for atomic scale materials modeling. VASP is the DFT code used by the Materials Project for inorganic crystals. We will also use a second DFT code, Q-Chem, in the exercises which is used by the Materials Project for molecules."
   ]
  },
  {
   "cell_type": "markdown",
   "metadata": {},
   "source": [
    "### POSCAR Demonstration\n",
    "Let's begin by obtaining a silicon structure to use in today's lesson. We will import this structure from a CIF (Crystallographic Information File) file which is not compatible with many DFT codes."
   ]
  },
  {
   "cell_type": "code",
   "execution_count": 1,
   "metadata": {},
   "outputs": [
    {
     "name": "stdout",
     "output_type": "stream",
     "text": [
      "Full Formula (Si8)\n",
      "Reduced Formula: Si\n",
      "abc   :   5.523145   5.468728   5.468728\n",
      "angles:  90.000000  90.000000  90.000000\n",
      "Sites (8)\n",
      "  #  SP       a     b     c\n",
      "---  ----  ----  ----  ----\n",
      "  0  Si    0.25  0.25  0.25\n",
      "  1  Si    0.5   0.5   0\n",
      "  2  Si    0.25  0.75  0.75\n",
      "  3  Si    0.5   0     0.5\n",
      "  4  Si    0.75  0.25  0.75\n",
      "  5  Si    0     0.5   0.5\n",
      "  6  Si    0.75  0.75  0.25\n",
      "  7  Si    0     0     0\n"
     ]
    }
   ],
   "source": [
    "from pymatgen.core import Structure\n",
    "struct = Structure.from_file(filename=\"./example_files/Si.CIF\")\n",
    "print(struct)"
   ]
  },
  {
   "cell_type": "markdown",
   "metadata": {},
   "source": [
    "VASP has 4 types of input files that must be provided by the user to run a calculation:\n",
    "* **INCAR:** specifies modeling parameters (how to run the calculation)\n",
    "* **POSCAR:** provides atomic structure\n",
    "* **KPOINTS:** outlines points for sampling space in the simulation cell\n",
    "* **POTCAR:** describes how to simulate electrons via pseudopotentials\n",
    "\n",
    "Pymatgen has python objects for representing each type of input file. For this lesson, we will first focus on the POSCAR to demonstrate the capabilties of these python objects."
   ]
  },
  {
   "cell_type": "code",
   "execution_count": 2,
   "metadata": {
    "scrolled": true
   },
   "outputs": [],
   "source": [
    "from pymatgen.io.vasp.inputs import Poscar"
   ]
  },
  {
   "cell_type": "markdown",
   "metadata": {},
   "source": [
    "Let's obtain a Poscar python object using the silicon structure object from before. "
   ]
  },
  {
   "cell_type": "code",
   "execution_count": 3,
   "metadata": {},
   "outputs": [
    {
     "name": "stdout",
     "output_type": "stream",
     "text": [
      "silicon\n",
      "1.0\n",
      "5.523145 0.000000 0.000000\n",
      "-0.000000 5.468728 0.000000\n",
      "0.000000 0.000000 5.468728\n",
      "Si\n",
      "8\n",
      "direct\n",
      "0.250000 0.250000 0.250000 Si\n",
      "0.500000 0.500000 0.000000 Si\n",
      "0.250000 0.750000 0.750000 Si\n",
      "0.500000 0.000000 0.500000 Si\n",
      "0.750000 0.250000 0.750000 Si\n",
      "0.000000 0.500000 0.500000 Si\n",
      "0.750000 0.750000 0.250000 Si\n",
      "0.000000 0.000000 0.000000 Si\n",
      "\n"
     ]
    }
   ],
   "source": [
    "poscar = Poscar(structure=struct,comment=\"silicon\")\n",
    "print(poscar)"
   ]
  },
  {
   "cell_type": "markdown",
   "metadata": {},
   "source": [
    "Since we can construct POSCARs from any structure object, we can make modifications to structure objects (make supercells, remove atoms to form defects, etc.) and construct complex structures (e.g. heterostructures, adsorbates on surfaces, etc.) all using pymatgen before turning the structure into a POSCAR file. \n",
    "\n",
    "In this Poscar object there is a full pymatgen structure that we can manipulate pythonically. To demonstrate, let's introduce a defect by removing the first site. To check our work, we can print out the number of sites in our original struct (8) and the Poscar structure (7)."
   ]
  },
  {
   "cell_type": "code",
   "execution_count": 4,
   "metadata": {},
   "outputs": [],
   "source": [
    "poscar.structure.remove_sites([0])"
   ]
  },
  {
   "cell_type": "code",
   "execution_count": 5,
   "metadata": {},
   "outputs": [
    {
     "name": "stdout",
     "output_type": "stream",
     "text": [
      "8 7\n"
     ]
    }
   ],
   "source": [
    "print(struct.num_sites,poscar.structure.num_sites)"
   ]
  },
  {
   "cell_type": "markdown",
   "metadata": {},
   "source": [
    "When your structure is ready, in order to obtain our POSCAR file for running VASP, the Poscar object has a method for writing it out as a file."
   ]
  },
  {
   "cell_type": "code",
   "execution_count": 6,
   "metadata": {},
   "outputs": [],
   "source": [
    "poscar.write_file(filename=\"POSCAR\")"
   ]
  },
  {
   "cell_type": "markdown",
   "metadata": {},
   "source": [
    "Another useful method is getting a Poscar object from a POSCAR file that has already been written. Note you are able to import a compressed file without unzipping it."
   ]
  },
  {
   "cell_type": "code",
   "execution_count": 7,
   "metadata": {
    "scrolled": true
   },
   "outputs": [
    {
     "name": "stdout",
     "output_type": "stream",
     "text": [
      "Al16 Cr10\n",
      "1.0\n",
      "7.417988 0.000000 -2.655322\n",
      "-3.770804 6.388081 -2.655321\n",
      "0.000000 0.000000 7.878914\n",
      "Al Cr\n",
      "16 10\n",
      "direct\n",
      "0.696455 0.696455 0.696455 Al\n",
      "0.646563 0.002044 0.646563 Al\n",
      "0.646563 0.646563 0.002044 Al\n",
      "0.002044 0.646563 0.646563 Al\n",
      "0.336523 0.558569 0.336523 Al\n",
      "0.336523 0.336523 0.558569 Al\n",
      "0.558569 0.336523 0.336523 Al\n",
      "0.734771 0.383622 0.734771 Al\n",
      "0.734771 0.734771 0.383622 Al\n",
      "0.383622 0.734771 0.734771 Al\n",
      "0.280797 0.666745 0.038053 Al\n",
      "0.038053 0.280797 0.666745 Al\n",
      "0.666745 0.038053 0.280797 Al\n",
      "0.666745 0.280797 0.038053 Al\n",
      "0.038053 0.666745 0.280797 Al\n",
      "0.280797 0.038053 0.666745 Al\n",
      "0.151124 0.151124 0.151124 Cr\n",
      "0.015343 0.797266 0.015343 Cr\n",
      "0.015343 0.015343 0.797266 Cr\n",
      "0.797266 0.015343 0.015343 Cr\n",
      "0.987828 0.333690 0.987828 Cr\n",
      "0.987828 0.987828 0.333690 Cr\n",
      "0.333690 0.987828 0.987828 Cr\n",
      "0.365023 0.015932 0.365023 Cr\n",
      "0.365023 0.365023 0.015932 Cr\n",
      "0.015932 0.365023 0.365023 Cr\n",
      "\n"
     ]
    }
   ],
   "source": [
    "poscar_from_file = Poscar.from_file(filename=\"./example_files/POSCAR.gz\")\n",
    "print(poscar_from_file)"
   ]
  },
  {
   "cell_type": "markdown",
   "metadata": {},
   "source": [
    "All the python objects for VASP inputs (INCAR, POSCAR, KPOINTS, POTCAR) have similar methods for initiating the object and writing out files. See the pymatgen documentation for more details: https://pymatgen.org/_modules/pymatgen/io/vasp/inputs.html"
   ]
  },
  {
   "cell_type": "markdown",
   "metadata": {},
   "source": [
    "### Input Sets\n",
    "\n",
    "It can still take quite some effort to explicitly generate each input file needed for calculation. To further automatation, pymatgen builds upon these pieces to generate `InputSets`. InputSets are objects that provide default parameters to perform a specific kind of calcualtion. Pymatgen has several InputSets including ones with the default paramters used for MP calculations. But it is also possible to define your own InputSet that lets you build new calculations using the parameters you want.\n",
    "\n",
    "Let's continue with our silicon structure from before. To generate the remaining input files needed for a VASP calculation, let's use an InputSet object. To perform a structure relaxation, we can import the parameters used in the Materials Project from `MPRelaxSet`."
   ]
  },
  {
   "cell_type": "code",
   "execution_count": 8,
   "metadata": {},
   "outputs": [],
   "source": [
    "from pymatgen.io.vasp.sets import MPRelaxSet"
   ]
  },
  {
   "cell_type": "markdown",
   "metadata": {},
   "source": [
    "Note all we need to initiate the MPRelaxSet InputSet is a structure object. All the information we need to generate the four VASP input files can be determined from the provided structure."
   ]
  },
  {
   "cell_type": "code",
   "execution_count": 9,
   "metadata": {},
   "outputs": [],
   "source": [
    "relax_set = MPRelaxSet(structure=struct)"
   ]
  },
  {
   "cell_type": "markdown",
   "metadata": {},
   "source": [
    "We can access the pythonic object for each of the VASP Input files (INCAR, POSCAR, KPOINTS, POTCAR) from our InputSet object."
   ]
  },
  {
   "cell_type": "code",
   "execution_count": 10,
   "metadata": {},
   "outputs": [
    {
     "data": {
      "text/plain": [
       "{'ALGO': 'Fast',\n",
       " 'EDIFF': 0.0004,\n",
       " 'ENCUT': 520,\n",
       " 'IBRION': 2,\n",
       " 'ISIF': 3,\n",
       " 'ISMEAR': -5,\n",
       " 'ISPIN': 2,\n",
       " 'LASPH': True,\n",
       " 'LORBIT': 11,\n",
       " 'LREAL': 'Auto',\n",
       " 'LWAVE': False,\n",
       " 'NELM': 100,\n",
       " 'NSW': 99,\n",
       " 'PREC': 'Accurate',\n",
       " 'SIGMA': 0.05,\n",
       " 'MAGMOM': [0.6, 0.6, 0.6, 0.6, 0.6, 0.6, 0.6, 0.6]}"
      ]
     },
     "execution_count": 10,
     "metadata": {},
     "output_type": "execute_result"
    }
   ],
   "source": [
    "relax_set.incar"
   ]
  },
  {
   "cell_type": "code",
   "execution_count": 11,
   "metadata": {},
   "outputs": [
    {
     "data": {
      "text/plain": [
       "Si8\n",
       "1.0\n",
       "5.523145 0.000000 0.000000\n",
       "-0.000000 5.468728 0.000000\n",
       "0.000000 0.000000 5.468728\n",
       "Si\n",
       "8\n",
       "direct\n",
       "0.250000 0.250000 0.250000 Si\n",
       "0.500000 0.500000 0.000000 Si\n",
       "0.250000 0.750000 0.750000 Si\n",
       "0.500000 0.000000 0.500000 Si\n",
       "0.750000 0.250000 0.750000 Si\n",
       "0.000000 0.500000 0.500000 Si\n",
       "0.750000 0.750000 0.250000 Si\n",
       "0.000000 0.000000 0.000000 Si"
      ]
     },
     "execution_count": 11,
     "metadata": {},
     "output_type": "execute_result"
    }
   ],
   "source": [
    "relax_set.poscar"
   ]
  },
  {
   "cell_type": "code",
   "execution_count": 12,
   "metadata": {},
   "outputs": [
    {
     "data": {
      "text/plain": [
       "pymatgen with grid density = 769 / number of atoms\n",
       "0\n",
       "Monkhorst\n",
       "4 4 4"
      ]
     },
     "execution_count": 12,
     "metadata": {},
     "output_type": "execute_result"
    }
   ],
   "source": [
    "relax_set.kpoints"
   ]
  },
  {
   "cell_type": "code",
   "execution_count": 13,
   "metadata": {},
   "outputs": [
    {
     "data": {
      "text/plain": [
       "{'functional': 'PBE',\n",
       " 'symbols': ['Si'],\n",
       " '@module': 'pymatgen.io.vasp.inputs',\n",
       " '@class': 'Potcar'}"
      ]
     },
     "execution_count": 13,
     "metadata": {},
     "output_type": "execute_result"
    }
   ],
   "source": [
    "relax_set.potcar.as_dict()"
   ]
  },
  {
   "cell_type": "markdown",
   "metadata": {},
   "source": [
    "InputSet has a `.write_input()` method which will write out all the VASP input files we need to run a structure optimization for our silicon structure. Let's specify writing our input files to a directory as if we were going to launch VASP from that directory.\n",
    "\n",
    "Note we will also set the `potcar_spec=True` flag to avoid writing an actual POTCAR file (which is composed from POTCAR files that can only be distrubuted under a VASP license). By default, POTCARs will be written based on POTCARs specifed by the environment variable `PMG_VASP_PSP_DIR`."
   ]
  },
  {
   "cell_type": "code",
   "execution_count": 14,
   "metadata": {},
   "outputs": [],
   "source": [
    "relax_set.write_input(output_dir=\"./Si_MPRelaxSet\",potcar_spec=True)"
   ]
  },
  {
   "cell_type": "markdown",
   "metadata": {},
   "source": [
    "## Lesson 2: Parsing Output Files\n",
    "\n",
    "After VASP has been run, you'll need to parse the VASP outputs to get the data you want. VASP makes a number of output files: \n",
    "\n",
    "- WAVECAR\n",
    "- CHGCAR\n",
    "- OUTCAR\n",
    "- vasprun.xml\n",
    "- PROCAR\n",
    "- And more ...\n",
    "\n",
    "Please read the [VASP documentation](https://www.vasp.at/wiki/index.php/The_VASP_Manual) for descriptions of what these all are. \n",
    "\n",
    "### Vasprun Demonstration\n",
    "\n",
    "For this portion of the lesson, we'll focus on vasprun.xml in the VASP_Al16Cr10_example directory. Similar to how pymatgen has objects corresponding to VASP input files, pymatgen has a `Vasprun` python object for parsing the outputs contained in vasprun.xml files."
   ]
  },
  {
   "cell_type": "code",
   "execution_count": null,
   "metadata": {},
   "outputs": [],
   "source": [
    "from pymatgen.io.vasp.outputs import Vasprun\n",
    "vrun = Vasprun(filename=\"./example_VASP_Al16Cr10/vasprun.xml.gz\")"
   ]
  },
  {
   "cell_type": "markdown",
   "metadata": {},
   "source": [
    "Since Vasprun objects has most of the information that VASP can provide, this one object is often enough to parse a full VASP calculation. Use Shift+Tab to check out the properties from the Vasprun object. \n",
    "\n",
    "For example, we can check if the calculation is converged as well as the the final structure and energy after the structure optimization was finished."
   ]
  },
  {
   "cell_type": "code",
   "execution_count": 16,
   "metadata": {},
   "outputs": [
    {
     "data": {
      "text/plain": [
       "True"
      ]
     },
     "execution_count": 16,
     "metadata": {},
     "output_type": "execute_result"
    }
   ],
   "source": [
    "vrun.converged"
   ]
  },
  {
   "cell_type": "code",
   "execution_count": 17,
   "metadata": {
    "scrolled": true
   },
   "outputs": [
    {
     "data": {
      "text/plain": [
       "Structure Summary\n",
       "Lattice\n",
       "    abc : 7.858339351222918 7.858486224302677 7.857828722726137\n",
       " angles : 109.68307448574032 109.6862509307799 109.68598356491901\n",
       " volume : 370.5637945511443\n",
       "      A : 7.41150067 -0.06594902 -2.61128434\n",
       "      B : -3.66951308 6.43992452 -2.61110162\n",
       "      C : -0.0388319 -0.06592473 7.85745622\n",
       "PeriodicSite: Al (2.5789, 4.3928, 1.8349) [0.6964, 0.6964, 0.6964]\n",
       "PeriodicSite: Al (4.7570, -0.0715, 3.3849) [0.6463, 0.0021, 0.6463]\n",
       "PeriodicSite: Al (2.4184, 4.1194, -3.3584) [0.6463, 0.6463, 0.0021]\n",
       "PeriodicSite: Al (-2.3810, 4.1196, 3.3853) [0.0021, 0.6463, 0.6463]\n",
       "PeriodicSite: Al (0.4331, 3.5525, 0.3080) [0.3367, 0.5585, 0.3367]\n",
       "PeriodicSite: Al (1.2385, 2.1091, 2.6301) [0.3367, 0.3367, 0.5585]\n",
       "PeriodicSite: Al (2.8908, 2.1093, 0.3082) [0.5585, 0.3367, 0.3367]\n",
       "PeriodicSite: Al (4.0091, 2.3707, 2.8527) [0.7345, 0.3832, 0.7345]\n",
       "PeriodicSite: Al (2.7336, 4.6565, -0.8251) [0.7345, 0.7345, 0.3832]\n",
       "PeriodicSite: Al (0.1161, 4.6564, 2.8529) [0.3832, 0.7345, 0.7345]\n",
       "PeriodicSite: Al (-0.3646, 4.2729, -2.1752) [0.2811, 0.6668, 0.0382]\n",
       "PeriodicSite: Al (-0.7746, 1.7638, 4.4054) [0.0382, 0.2811, 0.6668]\n",
       "PeriodicSite: Al (4.7905, 0.1830, 0.3684) [0.6667, 0.0381, 0.2811]\n",
       "PeriodicSite: Al (3.9084, 1.7639, -2.1754) [0.6667, 0.2811, 0.0381]\n",
       "PeriodicSite: Al (-2.1748, 4.2731, 0.3682) [0.0382, 0.6668, 0.2811]\n",
       "PeriodicSite: Al (1.9175, 0.1832, 4.4051) [0.2811, 0.0381, 0.6667]\n",
       "PeriodicSite: Cr (0.5570, 0.9483, 0.3962) [0.1504, 0.1503, 0.1504]\n",
       "PeriodicSite: Cr (-2.8111, 5.1348, -2.0003) [0.0157, 0.7977, 0.0157]\n",
       "PeriodicSite: Cr (0.0279, 0.0475, 6.1852) [0.0157, 0.0157, 0.7976]\n",
       "PeriodicSite: Cr (5.8535, 0.0475, -2.0004) [0.7976, 0.0157, 0.0157]\n",
       "PeriodicSite: Cr (6.0631, 2.0162, 4.3142) [0.9883, 0.3333, 0.9883]\n",
       "PeriodicSite: Cr (3.6852, 6.2772, -2.5420) [0.9883, 0.9883, 0.3333]\n",
       "PeriodicSite: Cr (-1.1945, 6.2772, 4.3145) [0.3333, 0.9883, 0.9883]\n",
       "PeriodicSite: Cr (2.6272, 0.0580, 1.8695) [0.3645, 0.0165, 0.3646]\n",
       "PeriodicSite: Cr (1.3633, 2.3223, -1.7743) [0.3645, 0.3645, 0.0165]\n",
       "PeriodicSite: Cr (-1.2298, 2.3221, 1.8693) [0.0164, 0.3645, 0.3645]"
      ]
     },
     "execution_count": 17,
     "metadata": {},
     "output_type": "execute_result"
    }
   ],
   "source": [
    "vrun.final_structure"
   ]
  },
  {
   "cell_type": "code",
   "execution_count": 18,
   "metadata": {
    "scrolled": true
   },
   "outputs": [
    {
     "data": {
      "text/plain": [
       "-157.80974238"
      ]
     },
     "execution_count": 18,
     "metadata": {},
     "output_type": "execute_result"
    }
   ],
   "source": [
    "vrun.final_energy"
   ]
  },
  {
   "cell_type": "markdown",
   "metadata": {},
   "source": [
    "Another useful set of data is stored under `.ionic_steps` because this contains information on how the calculation progressed during each ionic step in the structure optimization.\n",
    "\n",
    "We can check how many ionic steps were taken and what properties are stored for each ionic step. "
   ]
  },
  {
   "cell_type": "code",
   "execution_count": 19,
   "metadata": {},
   "outputs": [
    {
     "data": {
      "text/plain": [
       "4"
      ]
     },
     "execution_count": 19,
     "metadata": {},
     "output_type": "execute_result"
    }
   ],
   "source": [
    "len(vrun.ionic_steps)"
   ]
  },
  {
   "cell_type": "code",
   "execution_count": 20,
   "metadata": {},
   "outputs": [
    {
     "data": {
      "text/plain": [
       "dict_keys(['e_fr_energy', 'e_wo_entrp', 'e_0_energy', 'forces', 'stress', 'electronic_steps', 'structure'])"
      ]
     },
     "execution_count": 20,
     "metadata": {},
     "output_type": "execute_result"
    }
   ],
   "source": [
    "vrun.ionic_steps[0].keys()"
   ]
  },
  {
   "cell_type": "markdown",
   "metadata": {},
   "source": [
    "By looping through we can see how many electronic steps were taken during each ionic step and how many electronic steps were required."
   ]
  },
  {
   "cell_type": "code",
   "execution_count": 21,
   "metadata": {},
   "outputs": [
    {
     "name": "stdout",
     "output_type": "stream",
     "text": [
      "-157.49049217 18\n",
      "-157.58170253 13\n",
      "-157.69641768 27\n",
      "-157.80974238 10\n"
     ]
    }
   ],
   "source": [
    "for i in vrun.ionic_steps:\n",
    "    print(i[\"e_fr_energy\"] ,len(i[\"electronic_steps\"]))"
   ]
  },
  {
   "cell_type": "markdown",
   "metadata": {},
   "source": [
    "### Parsing Directories with Atomate Drones\n",
    "\n",
    "To take parsing outputs from external codes one step further, we will introduce the concept of `drones` from the python code package, `atomate`. Pymatgen provides methods for parsing individual output files. Atomate drones combine these capabilities to parse entire output calculation directories and has an `.assimilate()` methode to produce a dictionary summarizing the results. This dictionary representation is helpful because it can be stored in a database as done with the Materials Project."
   ]
  },
  {
   "cell_type": "code",
   "execution_count": 22,
   "metadata": {},
   "outputs": [
    {
     "name": "stdout",
     "output_type": "stream",
     "text": [
      "FW Echo Test: MP Workshop\n"
     ]
    }
   ],
   "source": [
    "from atomate.vasp.drones import VaspDrone"
   ]
  },
  {
   "cell_type": "code",
   "execution_count": 23,
   "metadata": {},
   "outputs": [],
   "source": [
    "drone = VaspDrone()"
   ]
  },
  {
   "cell_type": "code",
   "execution_count": 24,
   "metadata": {},
   "outputs": [
    {
     "name": "stdout",
     "output_type": "stream",
     "text": [
      "2021-07-15 16:36:00,823 INFO atomate.vasp.drones Getting task doc for base dir :./example_VASP_Al16Cr10\n"
     ]
    },
    {
     "name": "stderr",
     "output_type": "stream",
     "text": [
      "/Users/acrutt/miniconda3/envs/cms38/lib/python3.8/site-packages/pymatgen/io/vasp/inputs.py:1793: UnknownPotcarWarning: POTCAR with symbol Al has metadata that does not match                          any VASP POTCAR known to pymatgen. The data in this                          POTCAR is known to match the following functionals:                          ['PBE']\n",
      "  warnings.warn(\n",
      "/Users/acrutt/miniconda3/envs/cms38/lib/python3.8/site-packages/pymatgen/io/vasp/inputs.py:1793: UnknownPotcarWarning: POTCAR with symbol Cr_pv has metadata that does not match                          any VASP POTCAR known to pymatgen. The data in this                          POTCAR is known to match the following functionals:                          ['PBE']\n",
      "  warnings.warn(\n"
     ]
    },
    {
     "name": "stdout",
     "output_type": "stream",
     "text": [
      "2021-07-15 16:36:02,297 INFO atomate.vasp.drones Post-processing dir:./example_VASP_Al16Cr10\n",
      "2021-07-15 16:36:02,298 WARNING atomate.vasp.drones Transformations file does not exist.\n",
      "2021-07-15 16:36:02,303 INFO atomate.vasp.drones Post-processed /Users/acrutt/acr/MP Workshop/example_VASP_Al16Cr10\n"
     ]
    }
   ],
   "source": [
    "task_doc = drone.assimilate(path=\"./example_VASP_Al16Cr10\")"
   ]
  },
  {
   "cell_type": "code",
   "execution_count": 25,
   "metadata": {},
   "outputs": [
    {
     "name": "stdout",
     "output_type": "stream",
     "text": [
      "dict_keys(['schema', 'dir_name', 'calcs_reversed', 'run_stats', 'chemsys', 'formula_anonymous', 'formula_reduced_abc', 'completed_at', 'nsites', 'composition_unit_cell', 'composition_reduced', 'formula_pretty', 'elements', 'nelements', 'input', 'output', 'state', 'analysis', 'last_updated', 'transformations'])\n"
     ]
    }
   ],
   "source": [
    "print(task_doc.keys())"
   ]
  },
  {
   "cell_type": "markdown",
   "metadata": {},
   "source": [
    "## Lesson 3: Database Automation\n",
    "\n",
    "The final section of this lesson focuses on automating DFT using our `atomate` code. `atomate` is a set of recipes for computing properties for both molecules and structures. The workflows in `atomate` run on `fireworks`, our workflow management software. `fireworks` stores workflow information and calculation summaries in MongoDB. Using this infrastructure MP routinely manages 10,000 simultaneous calculations on supercomputers such as Cori at NERSC. \n",
    "\n",
    "Let's begin by importing a basic silicon structure"
   ]
  },
  {
   "cell_type": "code",
   "execution_count": 26,
   "metadata": {},
   "outputs": [
    {
     "name": "stdout",
     "output_type": "stream",
     "text": [
      "Full Formula (Si8)\n",
      "Reduced Formula: Si\n",
      "abc   :   5.523145   5.468728   5.468728\n",
      "angles:  90.000000  90.000000  90.000000\n",
      "Sites (8)\n",
      "  #  SP       a     b     c\n",
      "---  ----  ----  ----  ----\n",
      "  0  Si    0.25  0.25  0.25\n",
      "  1  Si    0.5   0.5   0\n",
      "  2  Si    0.25  0.75  0.75\n",
      "  3  Si    0.5   0     0.5\n",
      "  4  Si    0.75  0.25  0.75\n",
      "  5  Si    0     0.5   0.5\n",
      "  6  Si    0.75  0.75  0.25\n",
      "  7  Si    0     0     0\n"
     ]
    }
   ],
   "source": [
    "from pymatgen.core import Structure\n",
    "si = Structure.from_file(\"./example_files/Si.CIF\")\n",
    "print(si)"
   ]
  },
  {
   "cell_type": "markdown",
   "metadata": {},
   "source": [
    "In the past two lessons we've gone over some of the machinery used in this automation. Atomate workflows (with the support of fireworks) compiles everything needed to:\n",
    "* Store workflow inputs from the user\n",
    "* Create new calculation directories and write input files\n",
    "* Parse output directories and store results in a MongoDB database\n",
    "\n",
    "We can import `workflows` from atomate which are essentially the recipes that outline the steps for how to automate calculations from start to finish. There are many pre-built workflows in automate for common types of calculations. The best way to explore all available workflows is by checking the atomate source code linked below.\n",
    "* VASP Workflows: https://github.com/hackingmaterials/atomate/tree/main/atomate/vasp/workflows/base\n",
    "* Q-Chem Workflows: https://github.com/hackingmaterials/atomate/tree/main/atomate/qchem/workflows/base\n",
    "\n",
    "For this lesson, we will focus on two types of workflows for VASP.\n",
    "* Structure Optimization Workflow (simpler)\n",
    "* Bandstructure Workflow (more complex)\n",
    "\n",
    "Let's get started by importing these workflows and then creating workflow objects from our silicon structure."
   ]
  },
  {
   "cell_type": "code",
   "execution_count": null,
   "metadata": {},
   "outputs": [],
   "source": [
    "from atomate.vasp.workflows.presets.core import wf_structure_optimization, wf_bandstructure"
   ]
  },
  {
   "cell_type": "code",
   "execution_count": 28,
   "metadata": {
    "scrolled": true
   },
   "outputs": [
    {
     "name": "stdout",
     "output_type": "stream",
     "text": [
      "Workflow object: (fw_ids: odict_keys([-1]) , name: Si)\n"
     ]
    }
   ],
   "source": [
    "so_wf = wf_structure_optimization(structure=si)\n",
    "print(so_wf)"
   ]
  },
  {
   "cell_type": "code",
   "execution_count": 29,
   "metadata": {},
   "outputs": [
    {
     "name": "stdout",
     "output_type": "stream",
     "text": [
      "Workflow object: (fw_ids: odict_keys([-2, -3, -4, -5]) , name: Si)\n"
     ]
    }
   ],
   "source": [
    "bs_wf = wf_bandstructure(structure=si)\n",
    "print(bs_wf)"
   ]
  },
  {
   "cell_type": "markdown",
   "metadata": {},
   "source": [
    "The structure optimization workflow is simpler and we can see that it only contains one firework. The bandstructure workflow has four fireworks so we can assume it is more complex. Let's see a graphical representation of each of these workflows."
   ]
  },
  {
   "cell_type": "code",
   "execution_count": 30,
   "metadata": {},
   "outputs": [],
   "source": [
    "from mp_workshop.atomate import wf_to_graph"
   ]
  },
  {
   "cell_type": "code",
   "execution_count": 31,
   "metadata": {},
   "outputs": [
    {
     "data": {
      "image/svg+xml": [
       "<?xml version=\"1.0\" encoding=\"UTF-8\" standalone=\"no\"?>\n",
       "<!DOCTYPE svg PUBLIC \"-//W3C//DTD SVG 1.1//EN\"\n",
       " \"http://www.w3.org/Graphics/SVG/1.1/DTD/svg11.dtd\">\n",
       "<!-- Generated by graphviz version 2.40.1 (20161225.0304)\n",
       " -->\n",
       "<!-- Title: %3 Pages: 1 -->\n",
       "<svg width=\"164pt\" height=\"44pt\"\n",
       " viewBox=\"0.00 0.00 163.58 44.00\" xmlns=\"http://www.w3.org/2000/svg\" xmlns:xlink=\"http://www.w3.org/1999/xlink\">\n",
       "<g id=\"graph0\" class=\"graph\" transform=\"scale(1 1) rotate(0) translate(4 40)\">\n",
       "<title>%3</title>\n",
       "<polygon fill=\"#ffffff\" stroke=\"transparent\" points=\"-4,4 -4,-40 159.583,-40 159.583,4 -4,4\"/>\n",
       "<!-- &#45;1 -->\n",
       "<g id=\"node1\" class=\"node\">\n",
       "<title>&#45;1</title>\n",
       "<polygon fill=\"none\" stroke=\"#1f62a2\" points=\"155.3751,-36 .2079,-36 .2079,0 155.3751,0 155.3751,-36\"/>\n",
       "<text text-anchor=\"middle\" x=\"77.7915\" y=\"-13.8\" font-family=\"Times,serif\" font-size=\"14.00\" fill=\"#000000\">Si&#45;structure optimization</text>\n",
       "</g>\n",
       "</g>\n",
       "</svg>\n"
      ],
      "text/plain": [
       "<graphviz.dot.Digraph at 0x7fd010b89b80>"
      ]
     },
     "execution_count": 31,
     "metadata": {},
     "output_type": "execute_result"
    }
   ],
   "source": [
    "wf_to_graph(so_wf)"
   ]
  },
  {
   "cell_type": "code",
   "execution_count": 32,
   "metadata": {},
   "outputs": [
    {
     "data": {
      "image/svg+xml": [
       "<?xml version=\"1.0\" encoding=\"UTF-8\" standalone=\"no\"?>\n",
       "<!DOCTYPE svg PUBLIC \"-//W3C//DTD SVG 1.1//EN\"\n",
       " \"http://www.w3.org/Graphics/SVG/1.1/DTD/svg11.dtd\">\n",
       "<!-- Generated by graphviz version 2.40.1 (20161225.0304)\n",
       " -->\n",
       "<!-- Title: %3 Pages: 1 -->\n",
       "<svg width=\"402pt\" height=\"98pt\"\n",
       " viewBox=\"0.00 0.00 401.73 98.00\" xmlns=\"http://www.w3.org/2000/svg\" xmlns:xlink=\"http://www.w3.org/1999/xlink\">\n",
       "<g id=\"graph0\" class=\"graph\" transform=\"scale(1 1) rotate(0) translate(4 94)\">\n",
       "<title>%3</title>\n",
       "<polygon fill=\"#ffffff\" stroke=\"transparent\" points=\"-4,4 -4,-94 397.7314,-94 397.7314,4 -4,4\"/>\n",
       "<!-- &#45;2 -->\n",
       "<g id=\"node1\" class=\"node\">\n",
       "<title>&#45;2</title>\n",
       "<polygon fill=\"none\" stroke=\"#1f62a2\" points=\"155.3751,-63 .2079,-63 .2079,-27 155.3751,-27 155.3751,-63\"/>\n",
       "<text text-anchor=\"middle\" x=\"77.7915\" y=\"-40.8\" font-family=\"Times,serif\" font-size=\"14.00\" fill=\"#000000\">Si&#45;structure optimization</text>\n",
       "</g>\n",
       "<!-- &#45;3 -->\n",
       "<g id=\"node2\" class=\"node\">\n",
       "<title>&#45;3</title>\n",
       "<polygon fill=\"none\" stroke=\"#1f62a2\" points=\"253.4073,-63 191.6415,-63 191.6415,-27 253.4073,-27 253.4073,-63\"/>\n",
       "<text text-anchor=\"middle\" x=\"222.5244\" y=\"-40.8\" font-family=\"Times,serif\" font-size=\"14.00\" fill=\"#000000\">Si&#45;static</text>\n",
       "</g>\n",
       "<!-- &#45;2&#45;&gt;&#45;3 -->\n",
       "<g id=\"edge1\" class=\"edge\">\n",
       "<title>&#45;2&#45;&gt;&#45;3</title>\n",
       "<path fill=\"none\" stroke=\"#000000\" d=\"M155.6655,-45C164.5048,-45 173.2338,-45 181.321,-45\"/>\n",
       "<polygon fill=\"#000000\" stroke=\"#000000\" points=\"181.5381,-48.5001 191.538,-45 181.538,-41.5001 181.5381,-48.5001\"/>\n",
       "</g>\n",
       "<!-- &#45;4 -->\n",
       "<g id=\"node3\" class=\"node\">\n",
       "<title>&#45;4</title>\n",
       "<polygon fill=\"none\" stroke=\"#1f62a2\" points=\"393.8646,-90 289.3327,-90 289.3327,-54 393.8646,-54 393.8646,-90\"/>\n",
       "<text text-anchor=\"middle\" x=\"341.5986\" y=\"-67.8\" font-family=\"Times,serif\" font-size=\"14.00\" fill=\"#000000\">Si&#45;nscf uniform</text>\n",
       "</g>\n",
       "<!-- &#45;3&#45;&gt;&#45;4 -->\n",
       "<g id=\"edge2\" class=\"edge\">\n",
       "<title>&#45;3&#45;&gt;&#45;4</title>\n",
       "<path fill=\"none\" stroke=\"#000000\" d=\"M253.4989,-52.0234C261.4094,-53.8171 270.2015,-55.8107 279.0822,-57.8244\"/>\n",
       "<polygon fill=\"#000000\" stroke=\"#000000\" points=\"278.5778,-61.2988 289.1042,-60.0969 280.1258,-54.4721 278.5778,-61.2988\"/>\n",
       "</g>\n",
       "<!-- &#45;5 -->\n",
       "<g id=\"node4\" class=\"node\">\n",
       "<title>&#45;5</title>\n",
       "<polygon fill=\"none\" stroke=\"#1f62a2\" points=\"381.7541,-36 301.4432,-36 301.4432,0 381.7541,0 381.7541,-36\"/>\n",
       "<text text-anchor=\"middle\" x=\"341.5986\" y=\"-13.8\" font-family=\"Times,serif\" font-size=\"14.00\" fill=\"#000000\">Si&#45;nscf line</text>\n",
       "</g>\n",
       "<!-- &#45;3&#45;&gt;&#45;5 -->\n",
       "<g id=\"edge3\" class=\"edge\">\n",
       "<title>&#45;3&#45;&gt;&#45;5</title>\n",
       "<path fill=\"none\" stroke=\"#000000\" d=\"M253.4989,-37.9766C265.026,-35.3628 278.4252,-32.3245 291.2426,-29.4182\"/>\n",
       "<polygon fill=\"#000000\" stroke=\"#000000\" points=\"292.372,-32.751 301.3504,-27.1263 290.824,-25.9243 292.372,-32.751\"/>\n",
       "</g>\n",
       "</g>\n",
       "</svg>\n"
      ],
      "text/plain": [
       "<graphviz.dot.Digraph at 0x7fd010bb1130>"
      ]
     },
     "execution_count": 32,
     "metadata": {},
     "output_type": "execute_result"
    }
   ],
   "source": [
    "wf_to_graph(bs_wf)"
   ]
  },
  {
   "cell_type": "markdown",
   "metadata": {},
   "source": [
    "The exact steps in each firework can vary but for these cases, each firework roughly represents one VASP calculation which consists of the following steps:\n",
    "\n",
    "    1. Write VASP input files\n",
    "    2. Run VASP\n",
    "    3. Parse VASP output files\n",
    "\n",
    "In the more complex bandstructure workflow, we can see the fireworks are connected. That means the outputs from one firework are passed to the next firework so the VASP calculation can start from the relaxed structure of the previous calculation."
   ]
  },
  {
   "cell_type": "markdown",
   "metadata": {},
   "source": [
    "Before we move forward with running our workflows, we will make one modification called `use_fake_vasp_workshop`. This will change the fireworks in the workflows so they will not actually run VASP (which requires greater computer resources and a VASP license), but instead will simulate running VASP by copying over pre-existing VASP output files."
   ]
  },
  {
   "cell_type": "code",
   "execution_count": 33,
   "metadata": {},
   "outputs": [],
   "source": [
    "from mp_workshop.atomate import use_fake_vasp_workshop"
   ]
  },
  {
   "cell_type": "code",
   "execution_count": 34,
   "metadata": {},
   "outputs": [],
   "source": [
    "so_wf = use_fake_vasp_workshop(so_wf)\n",
    "bs_wf = use_fake_vasp_workshop(bs_wf)"
   ]
  },
  {
   "cell_type": "markdown",
   "metadata": {},
   "source": [
    "### Launching Workflows from Your LaunchPad\n",
    "\n",
    "Now we will introduce the `LaunchPad` from fireworks which is a python object that let's us interface with MongoDB and manage our queue of calculations. The LaunchPad allows you to submit and query workflows from anywhere you have database access. We need to get ourselves a LaunchPad object and set it up so we can submit our workflows."
   ]
  },
  {
   "cell_type": "code",
   "execution_count": 35,
   "metadata": {},
   "outputs": [],
   "source": [
    "from fireworks import LaunchPad"
   ]
  },
  {
   "cell_type": "code",
   "execution_count": 36,
   "metadata": {},
   "outputs": [],
   "source": [
    "lp = LaunchPad.auto_load()"
   ]
  },
  {
   "cell_type": "code",
   "execution_count": 37,
   "metadata": {},
   "outputs": [
    {
     "name": "stdout",
     "output_type": "stream",
     "text": [
      "2021-07-15 16:36:03,534 INFO Performing db tune-up\n",
      "2021-07-15 16:36:03,771 INFO LaunchPad was RESET.\n"
     ]
    }
   ],
   "source": [
    "lp.reset(password=None,require_password=False)"
   ]
  },
  {
   "cell_type": "markdown",
   "metadata": {},
   "source": [
    "Note `lp.reset()` should only be executed one time when you are first initializing your database set-up. If you reset your LaunchPad at a later time, you will erase the record of past calcuations you have run."
   ]
  },
  {
   "cell_type": "markdown",
   "metadata": {},
   "source": [
    "Adding our workflows to our Launchpad will encode and store these two workflow objects into MongoDB so they can be accessed later. "
   ]
  },
  {
   "cell_type": "code",
   "execution_count": 38,
   "metadata": {},
   "outputs": [
    {
     "name": "stdout",
     "output_type": "stream",
     "text": [
      "2021-07-15 16:36:03,783 INFO Added a workflow. id_map: {-1: 1}\n"
     ]
    },
    {
     "data": {
      "text/plain": [
       "{-1: 1}"
      ]
     },
     "execution_count": 38,
     "metadata": {},
     "output_type": "execute_result"
    }
   ],
   "source": [
    "lp.add_wf(so_wf)"
   ]
  },
  {
   "cell_type": "code",
   "execution_count": 39,
   "metadata": {},
   "outputs": [
    {
     "name": "stdout",
     "output_type": "stream",
     "text": [
      "2021-07-15 16:36:03,797 INFO Added a workflow. id_map: {-5: 2, -4: 3, -3: 4, -2: 5}\n"
     ]
    },
    {
     "data": {
      "text/plain": [
       "{-5: 2, -4: 3, -3: 4, -2: 5}"
      ]
     },
     "execution_count": 39,
     "metadata": {},
     "output_type": "execute_result"
    }
   ],
   "source": [
    "lp.add_wf(bs_wf)"
   ]
  },
  {
   "cell_type": "markdown",
   "metadata": {},
   "source": [
    "Now that our workflows are in our LaunchPad, we can check on their status using `.get_wf_summary_dict()`"
   ]
  },
  {
   "cell_type": "code",
   "execution_count": 40,
   "metadata": {},
   "outputs": [
    {
     "data": {
      "text/plain": [
       "{'state': 'READY',\n",
       " 'name': 'Si',\n",
       " 'created_on': datetime.datetime(2021, 7, 15, 23, 36, 3, 137000),\n",
       " 'updated_on': datetime.datetime(2021, 7, 15, 23, 36, 3, 137000),\n",
       " 'states': OrderedDict([('Si-structure optimization--1', 'READY')]),\n",
       " 'launch_dirs': OrderedDict([('Si-structure optimization--1', [])])}"
      ]
     },
     "execution_count": 40,
     "metadata": {},
     "output_type": "execute_result"
    }
   ],
   "source": [
    "lp.get_wf_summary_dict(fw_id=1)"
   ]
  },
  {
   "cell_type": "code",
   "execution_count": 41,
   "metadata": {},
   "outputs": [
    {
     "data": {
      "text/plain": [
       "{'state': 'READY',\n",
       " 'name': 'Si',\n",
       " 'created_on': datetime.datetime(2021, 7, 15, 23, 36, 3, 148000),\n",
       " 'updated_on': datetime.datetime(2021, 7, 15, 23, 36, 3, 148000),\n",
       " 'states': OrderedDict([('Si-nscf line--2', 'WAITING'),\n",
       "              ('Si-nscf uniform--3', 'WAITING'),\n",
       "              ('Si-static--4', 'WAITING'),\n",
       "              ('Si-structure optimization--5', 'READY')]),\n",
       " 'launch_dirs': OrderedDict([('Si-nscf line--2', []),\n",
       "              ('Si-nscf uniform--3', []),\n",
       "              ('Si-static--4', []),\n",
       "              ('Si-structure optimization--5', [])])}"
      ]
     },
     "execution_count": 41,
     "metadata": {},
     "output_type": "execute_result"
    }
   ],
   "source": [
    "lp.get_wf_summary_dict(fw_id=2)"
   ]
  },
  {
   "cell_type": "markdown",
   "metadata": {},
   "source": [
    "Now that we have workflows in our LaunchPad, we are ready to run them. Normally we run fireworks through the command-line interface on supercomputers because external codes, such as VASP, require more compute resources. However, for today's demonstration, we will run our workflows locally in this notebook to illustrate how it works.\n",
    "\n",
    "Fireworks has a command called `rlaunch` for \"launching\" or running a firework in a workflow from our LaunchPad. Let's check how we would use it and then launch one firework which we can specify using the `--fw_id` flag."
   ]
  },
  {
   "cell_type": "code",
   "execution_count": 43,
   "metadata": {
    "scrolled": true
   },
   "outputs": [
    {
     "name": "stdout",
     "output_type": "stream",
     "text": [
      "FW Echo Test: MP Workshop\n",
      "usage: rlaunch [-h] [-l LAUNCHPAD_FILE] [-w FWORKER_FILE] [-c CONFIG_DIR]\n",
      "               [--loglvl LOGLVL] [-s]\n",
      "               {singleshot,rapidfire,multi} ...\n",
      "\n",
      "This program launches one or more Rockets. A Rocket retrieves a job from the\n",
      "central database and runs it. The \"single-shot\" option launches a single\n",
      "Rocket, whereas the \"rapidfire\" option loops until all FireWorks are\n",
      "completed.\n",
      "\n",
      "positional arguments:\n",
      "  {singleshot,rapidfire,multi}\n",
      "                        command\n",
      "    singleshot          launch a single Rocket\n",
      "    rapidfire           launch multiple Rockets (loop until all FireWorks\n",
      "                        complete)\n",
      "    multi               launches multiple Rockets simultaneously\n",
      "\n",
      "optional arguments:\n",
      "  -h, --help            show this help message and exit\n",
      "  -l LAUNCHPAD_FILE, --launchpad_file LAUNCHPAD_FILE\n",
      "                        path to launchpad file\n",
      "  -w FWORKER_FILE, --fworker_file FWORKER_FILE\n",
      "                        path to fworker file\n",
      "  -c CONFIG_DIR, --config_dir CONFIG_DIR\n",
      "                        path to a directory containing the config file (used\n",
      "                        if -l, -w unspecified)\n",
      "  --loglvl LOGLVL       level to print log messages\n",
      "  -s, --silencer        shortcut to mute log messages\n"
     ]
    }
   ],
   "source": [
    "!rlaunch --help"
   ]
  },
  {
   "cell_type": "code",
   "execution_count": 44,
   "metadata": {},
   "outputs": [
    {
     "name": "stdout",
     "output_type": "stream",
     "text": [
      "FW Echo Test: MP Workshop\n",
      "2021-07-15 16:36:05,064 INFO Hostname/IP lookup (this will take a few seconds)\n",
      "/Users/acrutt/miniconda3/envs/cms38/lib/python3.8/site-packages/pymatgen/analysis/path_finder.py:36: FutureWarning: This code has been superseded by pymatgen.analysis.neb in the separate add-on packagepymatgen-diffusion. This module here is retained for backwards compatibility. It will be removed from2022.1.1.\n",
      "  warnings.warn(\n",
      "/Users/acrutt/miniconda3/envs/cms38/lib/python3.8/site-packages/pymatgen/util/testing.py:42: UserWarning: It is recommended that you set the PMG_TEST_FILES_DIR environment variable explicity. Now using a fallback location based on relative path from this module.\n",
      "  warnings.warn(\n",
      "2021-07-15 16:36:06,579 INFO Created new dir /Users/acrutt/acr/MP Workshop/launcher_2021-07-15-23-36-06-578966\n",
      "2021-07-15 16:36:06,579 INFO Launching Rocket\n",
      "2021-07-15 16:36:06,598 INFO RUNNING fw_id: 5 in directory: /Users/acrutt/acr/MP Workshop/launcher_2021-07-15-23-36-06-578966\n",
      "2021-07-15 16:36:06,623 INFO Task started: FileWriteTask.\n",
      "2021-07-15 16:36:06,623 INFO Task completed: FileWriteTask \n",
      "2021-07-15 16:36:06,625 INFO Task started: {{atomate.vasp.firetasks.write_inputs.WriteVaspFromIOSet}}.\n",
      "2021-07-15 16:36:06,666 INFO Task completed: {{atomate.vasp.firetasks.write_inputs.WriteVaspFromIOSet}} \n",
      "2021-07-15 16:36:06,668 INFO Task started: {{atomate.vasp.firetasks.run_calc.RunVaspFake}}.\n",
      "2021-07-15 16:36:06,669 INFO atomate.vasp.firetasks.run_calc RunVaspFake: verified inputs successfully\n",
      "2021-07-15 16:36:06,693 INFO atomate.vasp.firetasks.run_calc RunVaspFake: ran fake VASP, generated outputs\n",
      "2021-07-15 16:36:06,694 INFO Task completed: {{atomate.vasp.firetasks.run_calc.RunVaspFake}} \n",
      "2021-07-15 16:36:06,697 INFO Task started: {{atomate.common.firetasks.glue_tasks.PassCalcLocs}}.\n",
      "2021-07-15 16:36:06,698 INFO Task completed: {{atomate.common.firetasks.glue_tasks.PassCalcLocs}} \n",
      "2021-07-15 16:36:06,701 INFO Task started: {{atomate.vasp.firetasks.parse_outputs.VaspToDb}}.\n",
      "2021-07-15 16:36:06,702 INFO atomate.vasp.firetasks.parse_outputs PARSING DIRECTORY: /Users/acrutt/acr/MP Workshop/launcher_2021-07-15-23-36-06-578966\n",
      "2021-07-15 16:36:06,702 INFO atomate.vasp.drones Getting task doc for base dir :/Users/acrutt/acr/MP Workshop/launcher_2021-07-15-23-36-06-578966\n",
      "/Users/acrutt/miniconda3/envs/cms38/lib/python3.8/site-packages/pymatgen/io/vasp/inputs.py:1793: UnknownPotcarWarning: POTCAR with symbol Si has metadata that does not match                          any VASP POTCAR known to pymatgen. The data in this                          POTCAR is known to match the following functionals:                          ['PBE']\n",
      "  warnings.warn(\n",
      "2021-07-15 16:36:07,243 INFO atomate.vasp.drones Post-processing dir:/Users/acrutt/acr/MP Workshop/launcher_2021-07-15-23-36-06-578966\n",
      "2021-07-15 16:36:07,244 WARNING atomate.vasp.drones Transformations file does not exist.\n",
      "2021-07-15 16:36:07,246 INFO atomate.vasp.drones Post-processed /Users/acrutt/acr/MP Workshop/launcher_2021-07-15-23-36-06-578966\n",
      "2021-07-15 16:36:07,252 INFO atomate.utils.database Inserting anns-macbook-pro.local.dhcp.lbl.gov:/Users/acrutt/acr/MP Workshop/launcher_2021-07-15-23-36-06-578966 with taskid = 6\n",
      "2021-07-15 16:36:07,257 INFO atomate.vasp.firetasks.parse_outputs Finished parsing with task_id: 6\n",
      "2021-07-15 16:36:07,257 INFO Task completed: {{atomate.vasp.firetasks.parse_outputs.VaspToDb}} \n",
      "2021-07-15 16:36:07,275 INFO Rocket finished\n"
     ]
    }
   ],
   "source": [
    "!rlaunch rapidfire --nlaunches 1"
   ]
  },
  {
   "cell_type": "markdown",
   "metadata": {},
   "source": [
    "Let's check on our workflow in our LaunchPad to see how it has changed after launching one firework."
   ]
  },
  {
   "cell_type": "code",
   "execution_count": 45,
   "metadata": {},
   "outputs": [
    {
     "data": {
      "text/plain": [
       "{'state': 'RUNNING',\n",
       " 'name': 'Si',\n",
       " 'created_on': datetime.datetime(2021, 7, 15, 23, 36, 3, 148000),\n",
       " 'updated_on': datetime.datetime(2021, 7, 15, 23, 36, 7, 268000),\n",
       " 'states': OrderedDict([('Si-nscf line--2', 'WAITING'),\n",
       "              ('Si-nscf uniform--3', 'WAITING'),\n",
       "              ('Si-static--4', 'READY'),\n",
       "              ('Si-structure optimization--5', 'COMPLETED')]),\n",
       " 'launch_dirs': OrderedDict([('Si-nscf line--2', []),\n",
       "              ('Si-nscf uniform--3', []),\n",
       "              ('Si-static--4', []),\n",
       "              ('Si-structure optimization--5',\n",
       "               ['/Users/acrutt/acr/MP Workshop/launcher_2021-07-15-23-36-06-578966'])])}"
      ]
     },
     "execution_count": 45,
     "metadata": {},
     "output_type": "execute_result"
    }
   ],
   "source": [
    "lp.get_wf_summary_dict(fw_id=5)"
   ]
  },
  {
   "cell_type": "markdown",
   "metadata": {},
   "source": [
    "Note that if the `--nlaunches` flag is not used, `rlaunch rapidfire` will continue to launch more fireworks from the LaunchPad until no \"Ready\" fireworks remain. Let's give it a try to run our second workflow."
   ]
  },
  {
   "cell_type": "code",
   "execution_count": 46,
   "metadata": {},
   "outputs": [
    {
     "name": "stdout",
     "output_type": "stream",
     "text": [
      "FW Echo Test: MP Workshop\n",
      "2021-07-15 16:36:08,552 INFO Hostname/IP lookup (this will take a few seconds)\n",
      "/Users/acrutt/miniconda3/envs/cms38/lib/python3.8/site-packages/pymatgen/analysis/path_finder.py:36: FutureWarning: This code has been superseded by pymatgen.analysis.neb in the separate add-on packagepymatgen-diffusion. This module here is retained for backwards compatibility. It will be removed from2022.1.1.\n",
      "  warnings.warn(\n",
      "/Users/acrutt/miniconda3/envs/cms38/lib/python3.8/site-packages/pymatgen/util/testing.py:42: UserWarning: It is recommended that you set the PMG_TEST_FILES_DIR environment variable explicity. Now using a fallback location based on relative path from this module.\n",
      "  warnings.warn(\n",
      "2021-07-15 16:36:10,017 INFO Created new dir /Users/acrutt/acr/MP Workshop/launcher_2021-07-15-23-36-10-017346\n",
      "2021-07-15 16:36:10,017 INFO Launching Rocket\n",
      "2021-07-15 16:36:10,031 INFO RUNNING fw_id: 4 in directory: /Users/acrutt/acr/MP Workshop/launcher_2021-07-15-23-36-10-017346\n",
      "2021-07-15 16:36:10,035 INFO Task started: FileWriteTask.\n",
      "2021-07-15 16:36:10,036 INFO Task completed: FileWriteTask \n",
      "2021-07-15 16:36:10,037 INFO Task started: {{atomate.vasp.firetasks.glue_tasks.CopyVaspOutputs}}.\n",
      "2021-07-15 16:36:10,049 INFO Task completed: {{atomate.vasp.firetasks.glue_tasks.CopyVaspOutputs}} \n",
      "2021-07-15 16:36:10,051 INFO Task started: {{atomate.vasp.firetasks.write_inputs.WriteVaspStaticFromPrev}}.\n",
      "/Users/acrutt/miniconda3/envs/cms38/lib/python3.8/site-packages/pymatgen/io/vasp/inputs.py:1793: UnknownPotcarWarning: POTCAR with symbol Si has metadata that does not match                          any VASP POTCAR known to pymatgen. The data in this                          POTCAR is known to match the following functionals:                          ['PBE']\n",
      "  warnings.warn(\n",
      "2021-07-15 16:36:10,322 INFO Task completed: {{atomate.vasp.firetasks.write_inputs.WriteVaspStaticFromPrev}} \n",
      "2021-07-15 16:36:10,323 INFO Task started: {{atomate.vasp.firetasks.run_calc.RunVaspFake}}.\n",
      "2021-07-15 16:36:10,324 INFO atomate.vasp.firetasks.run_calc RunVaspFake: verified inputs successfully\n",
      "2021-07-15 16:36:10,342 INFO atomate.vasp.firetasks.run_calc RunVaspFake: ran fake VASP, generated outputs\n",
      "2021-07-15 16:36:10,342 INFO Task completed: {{atomate.vasp.firetasks.run_calc.RunVaspFake}} \n",
      "2021-07-15 16:36:10,344 INFO Task started: {{atomate.common.firetasks.glue_tasks.PassCalcLocs}}.\n",
      "2021-07-15 16:36:10,344 INFO Task completed: {{atomate.common.firetasks.glue_tasks.PassCalcLocs}} \n",
      "2021-07-15 16:36:10,346 INFO Task started: {{atomate.vasp.firetasks.parse_outputs.VaspToDb}}.\n",
      "2021-07-15 16:36:10,346 INFO atomate.vasp.firetasks.parse_outputs PARSING DIRECTORY: /Users/acrutt/acr/MP Workshop/launcher_2021-07-15-23-36-10-017346\n",
      "2021-07-15 16:36:10,346 INFO atomate.vasp.drones Getting task doc for base dir :/Users/acrutt/acr/MP Workshop/launcher_2021-07-15-23-36-10-017346\n",
      "2021-07-15 16:36:10,879 INFO atomate.vasp.drones Post-processing dir:/Users/acrutt/acr/MP Workshop/launcher_2021-07-15-23-36-10-017346\n",
      "2021-07-15 16:36:10,880 WARNING atomate.vasp.drones Transformations file does not exist.\n",
      "2021-07-15 16:36:10,941 INFO atomate.vasp.drones Post-processed /Users/acrutt/acr/MP Workshop/launcher_2021-07-15-23-36-10-017346\n",
      "2021-07-15 16:36:10,946 INFO atomate.utils.database Inserting anns-macbook-pro.local.dhcp.lbl.gov:/Users/acrutt/acr/MP Workshop/launcher_2021-07-15-23-36-10-017346 with taskid = 7\n",
      "2021-07-15 16:36:10,950 INFO atomate.vasp.firetasks.parse_outputs Finished parsing with task_id: 7\n",
      "2021-07-15 16:36:10,950 INFO Task completed: {{atomate.vasp.firetasks.parse_outputs.VaspToDb}} \n",
      "2021-07-15 16:36:10,963 INFO Rocket finished\n",
      "2021-07-15 16:36:10,966 INFO Created new dir /Users/acrutt/acr/MP Workshop/launcher_2021-07-15-23-36-10-965905\n",
      "2021-07-15 16:36:10,966 INFO Launching Rocket\n",
      "2021-07-15 16:36:10,976 INFO RUNNING fw_id: 2 in directory: /Users/acrutt/acr/MP Workshop/launcher_2021-07-15-23-36-10-965905\n",
      "2021-07-15 16:36:10,979 INFO Task started: FileWriteTask.\n",
      "2021-07-15 16:36:10,979 INFO Task completed: FileWriteTask \n",
      "2021-07-15 16:36:10,980 INFO Task started: {{atomate.vasp.firetasks.glue_tasks.CopyVaspOutputs}}.\n",
      "2021-07-15 16:36:11,043 INFO Task completed: {{atomate.vasp.firetasks.glue_tasks.CopyVaspOutputs}} \n",
      "2021-07-15 16:36:11,045 INFO Task started: {{atomate.vasp.firetasks.write_inputs.WriteVaspNSCFFromPrev}}.\n",
      "/Users/acrutt/miniconda3/envs/cms38/lib/python3.8/site-packages/pymatgen/symmetry/kpath.py:163: UserWarning: 'magmom' entry found in site properties but will be ignored                   for the Setyawan and Curtarolo convention.\n",
      "  warn(\n",
      "/Users/acrutt/miniconda3/envs/cms38/lib/python3.8/site-packages/pymatgen/symmetry/kpath.py:179: UserWarning: The input structure does not match the expected standard primitive! The path can be incorrect. Use at your own risk.\n",
      "  warn(\n",
      "2021-07-15 16:36:11,650 INFO Task completed: {{atomate.vasp.firetasks.write_inputs.WriteVaspNSCFFromPrev}} \n",
      "2021-07-15 16:36:11,653 INFO Task started: {{atomate.vasp.firetasks.run_calc.RunVaspFake}}.\n",
      "2021-07-15 16:36:11,653 INFO atomate.vasp.firetasks.run_calc RunVaspFake: verified inputs successfully\n",
      "2021-07-15 16:36:11,667 INFO atomate.vasp.firetasks.run_calc RunVaspFake: ran fake VASP, generated outputs\n",
      "2021-07-15 16:36:11,667 INFO Task completed: {{atomate.vasp.firetasks.run_calc.RunVaspFake}} \n",
      "2021-07-15 16:36:11,670 INFO Task started: {{atomate.common.firetasks.glue_tasks.PassCalcLocs}}.\n",
      "2021-07-15 16:36:11,670 INFO Task completed: {{atomate.common.firetasks.glue_tasks.PassCalcLocs}} \n",
      "2021-07-15 16:36:11,673 INFO Task started: {{atomate.vasp.firetasks.parse_outputs.VaspToDb}}.\n",
      "2021-07-15 16:36:11,674 INFO atomate.vasp.firetasks.parse_outputs PARSING DIRECTORY: /Users/acrutt/acr/MP Workshop/launcher_2021-07-15-23-36-10-965905\n",
      "2021-07-15 16:36:11,674 INFO atomate.vasp.drones Getting task doc for base dir :/Users/acrutt/acr/MP Workshop/launcher_2021-07-15-23-36-10-965905\n",
      "2021-07-15 16:36:12,152 INFO atomate.vasp.drones Post-processing dir:/Users/acrutt/acr/MP Workshop/launcher_2021-07-15-23-36-10-965905\n",
      "2021-07-15 16:36:12,152 WARNING atomate.vasp.drones Transformations file does not exist.\n",
      "2021-07-15 16:36:12,298 INFO atomate.vasp.drones Post-processed /Users/acrutt/acr/MP Workshop/launcher_2021-07-15-23-36-10-965905\n",
      "2021-07-15 16:36:12,305 INFO atomate.utils.database Inserting anns-macbook-pro.local.dhcp.lbl.gov:/Users/acrutt/acr/MP Workshop/launcher_2021-07-15-23-36-10-965905 with taskid = 8\n",
      "2021-07-15 16:36:12,345 INFO atomate.vasp.firetasks.parse_outputs Finished parsing with task_id: 8\n",
      "2021-07-15 16:36:12,345 INFO Task completed: {{atomate.vasp.firetasks.parse_outputs.VaspToDb}} \n",
      "2021-07-15 16:36:12,357 INFO Rocket finished\n",
      "2021-07-15 16:36:12,360 INFO Created new dir /Users/acrutt/acr/MP Workshop/launcher_2021-07-15-23-36-12-360774\n",
      "2021-07-15 16:36:12,361 INFO Launching Rocket\n",
      "2021-07-15 16:36:12,378 INFO RUNNING fw_id: 3 in directory: /Users/acrutt/acr/MP Workshop/launcher_2021-07-15-23-36-12-360774\n",
      "2021-07-15 16:36:12,381 INFO Task started: FileWriteTask.\n",
      "2021-07-15 16:36:12,382 INFO Task completed: FileWriteTask \n",
      "2021-07-15 16:36:12,384 INFO Task started: {{atomate.vasp.firetasks.glue_tasks.CopyVaspOutputs}}.\n",
      "2021-07-15 16:36:12,477 INFO Task completed: {{atomate.vasp.firetasks.glue_tasks.CopyVaspOutputs}} \n",
      "2021-07-15 16:36:12,479 INFO Task started: {{atomate.vasp.firetasks.write_inputs.WriteVaspNSCFFromPrev}}.\n",
      "2021-07-15 16:36:12,746 INFO Task completed: {{atomate.vasp.firetasks.write_inputs.WriteVaspNSCFFromPrev}} \n",
      "2021-07-15 16:36:12,748 INFO Task started: {{atomate.vasp.firetasks.run_calc.RunVaspFake}}.\n",
      "2021-07-15 16:36:12,749 INFO atomate.vasp.firetasks.run_calc RunVaspFake: verified inputs successfully\n",
      "2021-07-15 16:36:12,771 INFO atomate.vasp.firetasks.run_calc RunVaspFake: ran fake VASP, generated outputs\n",
      "2021-07-15 16:36:12,771 INFO Task completed: {{atomate.vasp.firetasks.run_calc.RunVaspFake}} \n",
      "2021-07-15 16:36:12,774 INFO Task started: {{atomate.common.firetasks.glue_tasks.PassCalcLocs}}.\n",
      "2021-07-15 16:36:12,775 INFO Task completed: {{atomate.common.firetasks.glue_tasks.PassCalcLocs}} \n",
      "2021-07-15 16:36:12,777 INFO Task started: {{atomate.vasp.firetasks.parse_outputs.VaspToDb}}.\n",
      "2021-07-15 16:36:12,778 INFO atomate.vasp.firetasks.parse_outputs PARSING DIRECTORY: /Users/acrutt/acr/MP Workshop/launcher_2021-07-15-23-36-12-360774\n",
      "2021-07-15 16:36:12,778 INFO atomate.vasp.drones Getting task doc for base dir :/Users/acrutt/acr/MP Workshop/launcher_2021-07-15-23-36-12-360774\n",
      "2021-07-15 16:36:13,245 INFO atomate.vasp.drones Post-processing dir:/Users/acrutt/acr/MP Workshop/launcher_2021-07-15-23-36-12-360774\n",
      "2021-07-15 16:36:13,245 WARNING atomate.vasp.drones Transformations file does not exist.\n",
      "2021-07-15 16:36:13,321 INFO atomate.vasp.drones Post-processed /Users/acrutt/acr/MP Workshop/launcher_2021-07-15-23-36-12-360774\n",
      "2021-07-15 16:36:13,326 INFO atomate.utils.database Inserting anns-macbook-pro.local.dhcp.lbl.gov:/Users/acrutt/acr/MP Workshop/launcher_2021-07-15-23-36-12-360774 with taskid = 9\n",
      "2021-07-15 16:36:13,367 INFO atomate.vasp.firetasks.parse_outputs Finished parsing with task_id: 9\n",
      "2021-07-15 16:36:13,368 INFO Task completed: {{atomate.vasp.firetasks.parse_outputs.VaspToDb}} \n",
      "2021-07-15 16:36:13,381 INFO Rocket finished\n",
      "2021-07-15 16:36:13,387 INFO Created new dir /Users/acrutt/acr/MP Workshop/launcher_2021-07-15-23-36-13-387363\n",
      "2021-07-15 16:36:13,387 INFO Launching Rocket\n",
      "2021-07-15 16:36:13,412 INFO RUNNING fw_id: 1 in directory: /Users/acrutt/acr/MP Workshop/launcher_2021-07-15-23-36-13-387363\n",
      "2021-07-15 16:36:13,419 INFO Task started: FileWriteTask.\n",
      "2021-07-15 16:36:13,420 INFO Task completed: FileWriteTask \n",
      "2021-07-15 16:36:13,421 INFO Task started: {{atomate.vasp.firetasks.write_inputs.WriteVaspFromIOSet}}.\n",
      "2021-07-15 16:36:13,546 INFO Task completed: {{atomate.vasp.firetasks.write_inputs.WriteVaspFromIOSet}} \n",
      "2021-07-15 16:36:13,549 INFO Task started: {{atomate.vasp.firetasks.run_calc.RunVaspFake}}.\n",
      "2021-07-15 16:36:13,549 INFO atomate.vasp.firetasks.run_calc RunVaspFake: verified inputs successfully\n",
      "2021-07-15 16:36:13,578 INFO atomate.vasp.firetasks.run_calc RunVaspFake: ran fake VASP, generated outputs\n",
      "2021-07-15 16:36:13,578 INFO Task completed: {{atomate.vasp.firetasks.run_calc.RunVaspFake}} \n",
      "2021-07-15 16:36:13,581 INFO Task started: {{atomate.common.firetasks.glue_tasks.PassCalcLocs}}.\n",
      "2021-07-15 16:36:13,581 INFO Task completed: {{atomate.common.firetasks.glue_tasks.PassCalcLocs}} \n",
      "2021-07-15 16:36:13,583 INFO Task started: {{atomate.vasp.firetasks.parse_outputs.VaspToDb}}.\n",
      "2021-07-15 16:36:13,583 INFO atomate.vasp.firetasks.parse_outputs PARSING DIRECTORY: /Users/acrutt/acr/MP Workshop/launcher_2021-07-15-23-36-13-387363\n",
      "2021-07-15 16:36:13,583 INFO atomate.vasp.drones Getting task doc for base dir :/Users/acrutt/acr/MP Workshop/launcher_2021-07-15-23-36-13-387363\n",
      "2021-07-15 16:36:14,086 INFO atomate.vasp.drones Post-processing dir:/Users/acrutt/acr/MP Workshop/launcher_2021-07-15-23-36-13-387363\n",
      "2021-07-15 16:36:14,086 WARNING atomate.vasp.drones Transformations file does not exist.\n",
      "2021-07-15 16:36:14,089 INFO atomate.vasp.drones Post-processed /Users/acrutt/acr/MP Workshop/launcher_2021-07-15-23-36-13-387363\n",
      "2021-07-15 16:36:14,092 INFO atomate.utils.database Inserting anns-macbook-pro.local.dhcp.lbl.gov:/Users/acrutt/acr/MP Workshop/launcher_2021-07-15-23-36-13-387363 with taskid = 10\n",
      "2021-07-15 16:36:14,098 INFO atomate.vasp.firetasks.parse_outputs Finished parsing with task_id: 10\n",
      "2021-07-15 16:36:14,099 INFO Task completed: {{atomate.vasp.firetasks.parse_outputs.VaspToDb}} \n",
      "2021-07-15 16:36:14,115 INFO Rocket finished\n"
     ]
    }
   ],
   "source": [
    "!rlaunch rapidfire "
   ]
  },
  {
   "cell_type": "markdown",
   "metadata": {},
   "source": [
    "Once `rlaunch rapidfire` has finished running, now we can check to see if our two workflows are completed."
   ]
  },
  {
   "cell_type": "code",
   "execution_count": 47,
   "metadata": {},
   "outputs": [
    {
     "data": {
      "text/plain": [
       "{'state': 'COMPLETED',\n",
       " 'name': 'Si',\n",
       " 'created_on': datetime.datetime(2021, 7, 15, 23, 36, 3, 137000),\n",
       " 'updated_on': datetime.datetime(2021, 7, 15, 23, 36, 14, 108000),\n",
       " 'states': OrderedDict([('Si-structure optimization--1', 'COMPLETED')]),\n",
       " 'launch_dirs': OrderedDict([('Si-structure optimization--1',\n",
       "               ['/Users/acrutt/acr/MP Workshop/launcher_2021-07-15-23-36-13-387363'])])}"
      ]
     },
     "execution_count": 47,
     "metadata": {},
     "output_type": "execute_result"
    }
   ],
   "source": [
    "lp.get_wf_summary_dict(fw_id=1)"
   ]
  },
  {
   "cell_type": "code",
   "execution_count": 48,
   "metadata": {},
   "outputs": [
    {
     "data": {
      "text/plain": [
       "{'state': 'COMPLETED',\n",
       " 'name': 'Si',\n",
       " 'created_on': datetime.datetime(2021, 7, 15, 23, 36, 3, 148000),\n",
       " 'updated_on': datetime.datetime(2021, 7, 15, 23, 36, 13, 377000),\n",
       " 'states': OrderedDict([('Si-nscf line--2', 'COMPLETED'),\n",
       "              ('Si-nscf uniform--3', 'COMPLETED'),\n",
       "              ('Si-static--4', 'COMPLETED'),\n",
       "              ('Si-structure optimization--5', 'COMPLETED')]),\n",
       " 'launch_dirs': OrderedDict([('Si-nscf line--2',\n",
       "               ['/Users/acrutt/acr/MP Workshop/launcher_2021-07-15-23-36-10-965905']),\n",
       "              ('Si-nscf uniform--3',\n",
       "               ['/Users/acrutt/acr/MP Workshop/launcher_2021-07-15-23-36-12-360774']),\n",
       "              ('Si-static--4',\n",
       "               ['/Users/acrutt/acr/MP Workshop/launcher_2021-07-15-23-36-10-017346']),\n",
       "              ('Si-structure optimization--5',\n",
       "               ['/Users/acrutt/acr/MP Workshop/launcher_2021-07-15-23-36-06-578966'])])}"
      ]
     },
     "execution_count": 48,
     "metadata": {},
     "output_type": "execute_result"
    }
   ],
   "source": [
    "lp.get_wf_summary_dict(fw_id=2)"
   ]
  },
  {
   "cell_type": "markdown",
   "metadata": {},
   "source": [
    "Fireworks also has a command called `qlaunch` to automatically submit jobs to the supercomputer to run. Upon the job starting on the supercomputer, rlaunch from fireworks will be called thus running fireworks with supercomputer resources. qlaunch is the primary command used by users in the command-line interface on supercomputers."
   ]
  }
 ],
 "metadata": {
  "kernelspec": {
   "display_name": "cms38",
   "language": "python",
   "name": "cms38"
  },
  "language_info": {
   "codemirror_mode": {
    "name": "ipython",
    "version": 3
   },
   "file_extension": ".py",
   "mimetype": "text/x-python",
   "name": "python",
   "nbconvert_exporter": "python",
   "pygments_lexer": "ipython3",
   "version": "3.8.8"
  }
 },
 "nbformat": 4,
 "nbformat_minor": 4
}
