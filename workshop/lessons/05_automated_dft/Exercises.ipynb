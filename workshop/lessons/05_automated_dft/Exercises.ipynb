{
 "cells": [
  {
   "cell_type": "markdown",
   "id": "2e236c24-0433-455d-b164-d22adc2cbd50",
   "metadata": {},
   "source": [
    "# Automating DFT Exercises\n",
    "\n",
    "## Exercise 1: Writing Input Files\n",
    "\n",
    "For these exercises we'll start off with a aluminum chromium alloy structure and an ethylene carbonate molecule. In these exercises our goals wil be to:\n",
    "\n",
    "**1.1:** Write `MPStaticSet` VASP input files for an aluminum chromium alloy (`struct`)\n",
    "\n",
    "**1.2:** Write `OptSet` Q-Chem input files for ethylene carbonate (`mol`)"
   ]
  },
  {
   "cell_type": "code",
   "execution_count": null,
   "id": "bc5b200e-8b9f-41b5-8dab-f58b3240c0d9",
   "metadata": {},
   "outputs": [],
   "source": [
    "from pymatgen.core import Structure\n",
    "struct = Structure.from_file(filename=\"./example_files/Al16Cr10.cif\")\n",
    "print(struct.composition)"
   ]
  },
  {
   "cell_type": "code",
   "execution_count": null,
   "id": "44156339-2d30-408a-af45-61b7350afeb1",
   "metadata": {},
   "outputs": [],
   "source": [
    "from pymatgen.core import Molecule\n",
    "mol = Molecule.from_file(\"./example_files/ethylene_carbonate.xyz\")\n",
    "print(mol.composition)"
   ]
  },
  {
   "cell_type": "markdown",
   "id": "8987eeec-e8d7-4de4-9095-68a6ddc12a86",
   "metadata": {},
   "source": [
    "### Exercise 1.1\n",
    "\n",
    "Let's try writing the input files for a different type of VASP calculation, MPStatic set. First we'll need to start by importing the `MPStaticSet` object. Then we must initiate the InputSet object with our desired structure. Finally, we can use the `.write_input()` method to write out our VASP input files into the directory we specify.\n",
    "\n",
    "**Hint 1:** The import statement is similar to MPRelaxSet from Lesson 1 below.\n",
    "\n",
    "`from pymatgen.io.vasp.sets import MPRelaxSet`\n",
    "\n",
    "**Hint 2:** Remember to include the `potcar_spec=True` flag when using `.write_input()`"
   ]
  },
  {
   "cell_type": "code",
   "execution_count": null,
   "id": "5060d52b-dff0-42be-be6e-d1d36134bbe2",
   "metadata": {},
   "outputs": [],
   "source": []
  },
  {
   "cell_type": "code",
   "execution_count": null,
   "id": "d9258592-d970-4a8c-acad-687c29ff3a39",
   "metadata": {},
   "outputs": [],
   "source": []
  },
  {
   "cell_type": "code",
   "execution_count": null,
   "id": "3be423d6-1d6a-4b86-9468-981fcd2c54e8",
   "metadata": {},
   "outputs": [],
   "source": []
  },
  {
   "cell_type": "markdown",
   "id": "daa19e5d-e1e9-4a2c-8de8-e19f1f10e92e",
   "metadata": {},
   "source": [
    "### Exercise 1.2\n",
    "\n",
    "Now let's try writing input files for a different external code, Q-Chem. Even though we have not worked with Q-Chem before, the steps are similar to how we approach writing input files for VASP.\n",
    "\n",
    "First we must modify the import statement to find `OptSet` from the Q-Chem IO sets. Then we must initiate the InputSet object with our ethylene carbonate molecule. Finally, we must find the method used for writing out the input file for Q-Chem. Note Q-Chem only requires a single input file so we will need to specify a filename instead of a directory.\n",
    "\n",
    "**Hint:** Use `shift+tab` and `tab` to explore autocomplete options as you search for new modules or methods."
   ]
  },
  {
   "cell_type": "code",
   "execution_count": null,
   "id": "c416928d-1ea4-4732-af2a-fba0a93c5190",
   "metadata": {},
   "outputs": [],
   "source": []
  },
  {
   "cell_type": "code",
   "execution_count": null,
   "id": "be32a855-91eb-4e9e-9efb-8cbfac0ecdfd",
   "metadata": {},
   "outputs": [],
   "source": []
  },
  {
   "cell_type": "code",
   "execution_count": null,
   "id": "e627f65e-3ac0-4dc6-8714-620d699cd01b",
   "metadata": {},
   "outputs": [],
   "source": []
  },
  {
   "cell_type": "markdown",
   "id": "edc7c1c7-115f-41a5-bb3d-a585897f9b7c",
   "metadata": {},
   "source": [
    "## Exercise 2: Parsing Output Files\n",
    "\n",
    "For these exercises we'll be working with example output files in two directories. We'll pick-up where we left off in Lesson 2 where we have imported VaspDrone from atomate, initiated the drone object, and have used the .assimulate() method to parse the output directory.\n",
    "\n",
    "**2.1:** Explore the `task_doc` produced by `VaspDrone` to parse the files in `example_VASP_Al16Cr10`\n",
    "\n",
    "**2.2:** Use `QChemDrone` to parse the files in `example_QChem_ethylene_carbonate`"
   ]
  },
  {
   "cell_type": "code",
   "execution_count": null,
   "id": "689a8029-a385-4614-a951-a9b7ddac421e",
   "metadata": {},
   "outputs": [],
   "source": [
    "from atomate.vasp.drones import VaspDrone"
   ]
  },
  {
   "cell_type": "code",
   "execution_count": null,
   "id": "16e16abe-448d-45d2-bc65-802eab248a57",
   "metadata": {},
   "outputs": [],
   "source": [
    "drone = VaspDrone()"
   ]
  },
  {
   "cell_type": "code",
   "execution_count": null,
   "id": "76a43509-2a96-40d4-80d5-f097c442721f",
   "metadata": {},
   "outputs": [],
   "source": [
    "task_doc = drone.assimilate(path=\"./example_VASP_Al16Cr10\")"
   ]
  },
  {
   "cell_type": "markdown",
   "id": "5eb083c9-4ec7-4980-953f-cd6a268126bd",
   "metadata": {},
   "source": [
    "### Exercise 2.2\n",
    "\n",
    "Answer the following questions by examining the information parsed by the drone and stored in `task_doc`.\n",
    "\n",
    "    Q1. How many sites are in our calculation's structure?\n",
    "    \n",
    "    Q2. What is the final energy? Does this match the vasp.xml final energy found during the  Vasprun demonstration from Lesson 2 (-157.80974238 eV)?\n",
    "    \n",
    "    Q3. What is the final energy per atom? Does this make sense based on dividing your answers from the past two questions?\n",
    "\n",
    "**Hint:** Recall you can explore the fields in a dictionary using `task_doc.keys()` to navigate what is available in the dictionary."
   ]
  },
  {
   "cell_type": "code",
   "execution_count": null,
   "id": "a28aa617-57e6-4a34-b8c2-088731eab5bc",
   "metadata": {},
   "outputs": [],
   "source": []
  },
  {
   "cell_type": "code",
   "execution_count": null,
   "id": "69ea8deb-bfeb-48f3-9084-cc3705b7fb86",
   "metadata": {},
   "outputs": [],
   "source": []
  },
  {
   "cell_type": "code",
   "execution_count": null,
   "id": "8d9291d3-7115-4968-9428-392802adf5f6",
   "metadata": {},
   "outputs": [],
   "source": []
  },
  {
   "cell_type": "code",
   "execution_count": null,
   "id": "05c0deb3-820d-418f-9790-7ca58d1da66f",
   "metadata": {},
   "outputs": [],
   "source": []
  },
  {
   "cell_type": "code",
   "execution_count": null,
   "id": "dd1eff69-ca1f-4a2e-bb0b-98cfdafff3fc",
   "metadata": {},
   "outputs": [],
   "source": []
  },
  {
   "cell_type": "code",
   "execution_count": null,
   "id": "c2851914-25a9-4f28-a219-d69524e6d092",
   "metadata": {},
   "outputs": [],
   "source": []
  },
  {
   "cell_type": "markdown",
   "id": "08f906e3-b441-4ddc-854e-19246d94568f",
   "metadata": {},
   "source": [
    "### Exercise 2.2\n",
    "\n",
    "Even though we are parsing the outputs from a different code, the process is similar to the approach we used with VASP. First we must import `QChemDrone` from the Q-Chem module of atomate. Then we must initiate the drone object. Then we can use the `.assimilate()` method from the drone to parse the ethylene molecule directory, `\"./example_QChem_ethylene_carbonate\"`.\n",
    "\n",
    "**Hint 1:** Recall the code for importing a drone, initializing the drone object, and parsing a directory for VASP are included at the beginning of this exercise. While modifications will be needed, this is a great starting point!\n",
    "\n",
    "**Hint 2:** Note that `QChemDrone.assimilate()` has additional input parameters. Can you infer what the values should be based on the files in `example_QChem_ethylene_carbonate`?\n",
    "\n",
    "    input_file (str): base name of the input file(s)\n",
    "    output_file (str): base name of the output file(s)\n",
    "    multirun (bool): Whether the job to parse includes multiple\n",
    "                     calculations in one input / output pair."
   ]
  },
  {
   "cell_type": "code",
   "execution_count": null,
   "id": "8c20c3a3-41fa-4b91-8ccd-8ab79b9cef9b",
   "metadata": {},
   "outputs": [],
   "source": []
  },
  {
   "cell_type": "code",
   "execution_count": null,
   "id": "92a47273-0b0d-4723-9e5b-696b4d1c09bb",
   "metadata": {},
   "outputs": [],
   "source": []
  },
  {
   "cell_type": "code",
   "execution_count": null,
   "id": "d5fdb93e-bd3d-48fe-9e3f-62953ef028a8",
   "metadata": {},
   "outputs": [],
   "source": []
  },
  {
   "cell_type": "code",
   "execution_count": null,
   "id": "a919f2a8-a8f5-4372-bd78-618b4efc1ac6",
   "metadata": {},
   "outputs": [],
   "source": []
  }
 ],
 "metadata": {
  "kernelspec": {
   "display_name": "cms38",
   "language": "python",
   "name": "cms38"
  },
  "language_info": {
   "codemirror_mode": {
    "name": "ipython",
    "version": 3
   },
   "file_extension": ".py",
   "mimetype": "text/x-python",
   "name": "python",
   "nbconvert_exporter": "python",
   "pygments_lexer": "ipython3",
   "version": "3.8.8"
  }
 },
 "nbformat": 4,
 "nbformat_minor": 5
}
